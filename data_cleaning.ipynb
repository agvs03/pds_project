{
 "cells": [
  {
   "cell_type": "markdown",
   "id": "f9a64fb6",
   "metadata": {
    "id": "f9a64fb6"
   },
   "source": [
    "# DATA CLEANING"
   ]
  },
  {
   "cell_type": "code",
   "execution_count": 25,
   "id": "2243b906",
   "metadata": {
    "id": "2243b906"
   },
   "outputs": [],
   "source": [
    "import pandas as pd\n",
    "df = pd.read_csv(\"raw_data.csv\")\n",
    "\n"
   ]
  },
  {
   "cell_type": "markdown",
   "id": "8b585b20",
   "metadata": {
    "id": "8b585b20"
   },
   "source": [
    "## Basic cleanings:\n",
    "\t* Drop duplicates and fill NaN values."
   ]
  },
  {
   "cell_type": "code",
   "execution_count": 2,
   "id": "7129dd21",
   "metadata": {
    "id": "7129dd21"
   },
   "outputs": [],
   "source": [
    "#Checking columns names:\n",
    "#df.columns\n",
    "#dropping duplicates rows\n",
    "df=df.drop_duplicates()\n",
    "#deleting row without salary: our entirely analysis depends on salary info.\n",
    "df = df[df['Salary Estimate'] != '-1']\n",
    "#resetting index\n",
    "df=df.reset_index(drop=True)\n",
    "#df.isnull().sum() #This line count how many null data are in each column of the df\n",
    "#filling nan data with '-1'\n",
    "df = df.fillna('-1')"
   ]
  },
  {
   "cell_type": "markdown",
   "id": "b33c6f21",
   "metadata": {
    "id": "b33c6f21"
   },
   "source": [
    "## Parsed numeric data out of salary column as min, max and avg _salary:\n",
    "\t* Taked into account the hourly given salaries.\n",
    "\t* Added columns for employer provided salary and hourly wages."
   ]
  },
  {
   "cell_type": "code",
   "execution_count": 3,
   "id": "4ffe5253",
   "metadata": {
    "id": "4ffe5253"
   },
   "outputs": [],
   "source": [
    "#Since cells were found to have a different salary format, they should be highlighted.\n",
    "#So two new columns with 1 for the detected cells and 0 for the normal cells are needed (one for each case):\n",
    "df[\"hourly\"] = df['Salary Estimate'].apply(lambda x: 1 if 'per hour' in x.lower() else 0)\n",
    "df[\"employer_provided\"] = df['Salary Estimate'].apply(lambda x: 1 if 'employer provided salary' in x.lower() else 0)\n",
    "\n",
    "#Creating a new dataframe with the salary data and processed it:\n",
    "    #Here we are deleting those rows without the salary data.\n",
    "df = df[df['Salary Estimate'] != '-1']\n",
    "    #Here is taken everything before the '(' ignoring the rest and pasting that in the serie \"salary\".\n",
    "salary = df[\"Salary Estimate\"].apply(lambda x: x.split('(')[0])\n",
    "    #Here are erased the 'K' and '$\n",
    "minus_Kd = salary.apply(lambda x: x.replace('K','').replace('$',''))\n",
    "    #Here are replaced the cases previously detected with a blank space instead.\n",
    "min_hr = minus_Kd.apply(lambda x: x.lower().replace('per hour','').replace('employer provided salary:',''))\n",
    "\n",
    "#Now that only numbers are left, separated with a '-', split them and put them in two different dataframe will help to calculate the average\n",
    "#This doesn't take into consideration the data presented in an hourly form:\n",
    "\n",
    "df['min_salary'] = min_hr.apply(lambda x: float(x.split('-')[0].strip()) if len(x.split('-')) > 1 else float(x.strip()))\n",
    "df['max_salary'] = min_hr.apply(lambda x: float(x.split('-')[1].strip()) if len(x.split('-')) > 1 else float(x.strip()))\n",
    "\n",
    "\n",
    "\n",
    " #calculating average:\n",
    " #It is logical to think that the companies that are hiring telling an hourly salary could not be hiring annually, hiring by season, or are not sure about investment in this area, so  the salaries could be irregular (generally worst)\n",
    " #Later if I don't want to add them in the EDA step, then there we got the \"hourly\" column\n",
    " #Why I multiply by 1.92? 8 hours, 5 days, 4 weeks, 12 months: 8*5*4*12=1920... The values in the column are in thousands, so I need to divide by 1000.\n",
    "df['min_salary']= df.apply(lambda x: x['min_salary'] if x['hourly']==0 else (int)(x['min_salary']*1.92), axis = 1)\n",
    "df['max_salary']= df.apply(lambda x: x['max_salary'] if x['hourly']==0 else (int)(x['max_salary']*1.92), axis = 1)\n",
    "\n",
    "    #Finally, averaging column is calculated:\n",
    "df['avg_salary'] = (df.min_salary+df.max_salary)/2"
   ]
  },
  {
   "cell_type": "markdown",
   "id": "820e0768",
   "metadata": {
    "id": "820e0768"
   },
   "source": [
    " ## Parsed rating out of company text and removed undesired characters."
   ]
  },
  {
   "cell_type": "code",
   "execution_count": 4,
   "id": "bd1fe06c",
   "metadata": {
    "colab": {
     "base_uri": "https://localhost:8080/"
    },
    "id": "bd1fe06c",
    "outputId": "7e81d5ba-95cb-4cb0-a5f7-df42c3c8f69c"
   },
   "outputs": [
    {
     "data": {
      "text/plain": [
       "0            Adobe\n",
       "1              IBM\n",
       "2        Microsoft\n",
       "3           CPChem\n",
       "4      IVID TEK IN\n",
       "          ...     \n",
       "675     The JAAW G\n",
       "676           Kumo\n",
       "677        Parsons\n",
       "678              -\n",
       "679               \n",
       "Name: company_txt, Length: 680, dtype: object"
      ]
     },
     "execution_count": 4,
     "metadata": {},
     "output_type": "execute_result"
    }
   ],
   "source": [
    "#Taking into account that the Company_Name  column has not only the name of the company, but also the information of the ratings, it is necessary to remove ir the latter.\n",
    "\n",
    "df['company_txt']= df.apply(lambda x: x['Company Name'] if x['Rating']<0 else x['Company Name'][:-3], axis = 1)\n",
    "\n",
    "#If we watch what we have in the company names treated column:\n",
    "df['company_txt']\n",
    "#It is quite evident that each cell has \"/n\" characters at the end. Then we should remove it.\n",
    "\n",
    "df['company_txt'] = df['company_txt'].str[:-1]\n",
    "df['company_txt']\n"
   ]
  },
  {
   "cell_type": "markdown",
   "id": "31db43b2",
   "metadata": {
    "id": "31db43b2"
   },
   "source": [
    "## Made a new column for company state and cleaned it."
   ]
  },
  {
   "cell_type": "code",
   "execution_count": 5,
   "id": "38efdba8",
   "metadata": {
    "colab": {
     "base_uri": "https://localhost:8080/"
    },
    "id": "38efdba8",
    "outputId": "75c3a802-7575-48f4-899c-682b3c836866",
    "scrolled": true
   },
   "outputs": [
    {
     "data": {
      "text/plain": [
       "CA                141\n",
       "Remote             58\n",
       "TX                 48\n",
       "VA                 46\n",
       "NY                 32\n",
       "IL                 28\n",
       "MA                 28\n",
       "MD                 28\n",
       "CO                 21\n",
       "NJ                 21\n",
       "FL                 19\n",
       "NC                 18\n",
       "WA                 16\n",
       "DC                 15\n",
       "GA                 14\n",
       "MI                 13\n",
       "PA                 13\n",
       "United States      10\n",
       "UT                 10\n",
       "OH                 10\n",
       "CT                  8\n",
       "AZ                  8\n",
       "-1                  8\n",
       "MO                  7\n",
       "WI                  7\n",
       "MN                  6\n",
       "LA                  5\n",
       "DE                  4\n",
       "California          4\n",
       "IA                  4\n",
       "AR                  3\n",
       "AL                  3\n",
       "NE                  2\n",
       "OR                  2\n",
       "IN                  2\n",
       "RI                  2\n",
       "NM                  2\n",
       "KY                  2\n",
       "ND                  1\n",
       "NH                  1\n",
       "Maryland            1\n",
       "Manhattan           1\n",
       "TN                  1\n",
       "Illinois            1\n",
       "Point Loma          1\n",
       "New York State      1\n",
       "KS                  1\n",
       "NV                  1\n",
       "ME                  1\n",
       "MS                  1\n",
       "Name: job_state, dtype: int64"
      ]
     },
     "execution_count": 5,
     "metadata": {},
     "output_type": "execute_result"
    }
   ],
   "source": [
    "#Here can be seeing that States are after the comma.\n",
    "    #The next line split the cell and take what is after the comma. Simple.\n",
    "df['job_state'] = df['Location'].apply(lambda x: x.split(',')[1] if ',' in x else x)\n",
    "\n",
    "df['job_state'].value_counts()\n",
    "#Here can be seen \"Los Angeles\" (an error, obviously)\n",
    "\n",
    "df['job_state'] = df.job_state.apply(lambda x: x.strip() if x.strip().lower() != 'los angeles' else 'CA')\n",
    "df['job_state'] = df.job_state.apply(lambda x: x.strip() if x.strip().lower() != 'iowa' else 'IA')\n",
    "df['job_state'] = df.job_state.apply(lambda x: x.strip() if x.strip().lower() != 'georgia' else 'GA')\n",
    "df['job_state'] = df.job_state.apply(lambda x: x.strip() if x.strip().lower() != 'virginia' else 'VA')\n",
    "df['job_state'].value_counts()"
   ]
  },
  {
   "cell_type": "markdown",
   "id": "7dbfea79",
   "metadata": {
    "id": "7dbfea79"
   },
   "source": [
    "## Transformed founded date into age of company"
   ]
  },
  {
   "cell_type": "code",
   "execution_count": 9,
   "id": "a6f74903",
   "metadata": {
    "id": "a6f74903"
   },
   "outputs": [],
   "source": [
    "#How many years are these companies working?\n",
    "df['age'] = df.Founded.apply(lambda x: x if x<1 else 2023-x)"
   ]
  },
  {
   "cell_type": "markdown",
   "id": "4ce76988",
   "metadata": {
    "id": "4ce76988"
   },
   "source": [
    "## Made columns for if different skills were listed in the job description:\n",
    "\n",
    "|||||||\n",
    "|------------------|------------------|------------------|------------------|------------------|------------------|\n",
    "|Python  |R|Spark|AWS|Excel|SQL|\n",
    "|SAS|d3.js|Julia|Jupyter|Keras  |MatLab|\n",
    "|MatPlotLib|PyTorch|Scikit-Learn|Tensor Flow|Weka|Selenium|\n",
    "|Hadoop|Tableau|Power BI|BigML|RapidMiner|Apache Flink|\n",
    "|DataRobot|SAP Hana|Mongo DB|Trifacta|MiniTab|Kafka|\n",
    "|MicroStrategy|Google Analytics|SPSS|-|-|-|\n",
    "||||||||"
   ]
  },
  {
   "cell_type": "code",
   "execution_count": 10,
   "id": "3f2ddab6",
   "metadata": {
    "colab": {
     "base_uri": "https://localhost:8080/"
    },
    "id": "3f2ddab6",
    "outputId": "60a00e0e-0452-4099-a19f-733d63a84319"
   },
   "outputs": [
    {
     "data": {
      "text/plain": [
       "0    676\n",
       "1      4\n",
       "Name: spss_yn, dtype: int64"
      ]
     },
     "execution_count": 10,
     "metadata": {},
     "output_type": "execute_result"
    }
   ],
   "source": [
    "df['python_yn']  = df['Job Description'].apply(lambda x: 1 if 'py' in x.lower() else 0)\n",
    "  \n",
    "df.python_yn.value_counts()\n",
    "\n",
    "df['R_yn']  = df['Job Description'].apply(lambda x: 1 if ' r ' in x.lower() or 'r-studio' in x.lower() or ' r,' in x.lower() or ' r.' in x.lower() else 0)\n",
    "df.R_yn.value_counts()\n",
    "#spark\n",
    "df['spark_yn']  = df['Job Description'].apply(lambda x: 1 if 'spark' in x.lower() else 0)\n",
    "df.spark_yn.value_counts()\n",
    "#aws\n",
    "df['aws_yn']  = df['Job Description'].apply(lambda x: 1 if 'aws' in x.lower() else 0)\n",
    "df.aws_yn.value_counts()\n",
    "#excel\n",
    "df['excel_yn']  = df['Job Description'].apply(lambda x: 1 if 'excel' in x.lower() else 0)\n",
    "df.excel_yn.value_counts()\n",
    "#sql\n",
    "df['sql_yn']  = df['Job Description'].apply(lambda x: 1 if 'sql' in x.lower() else 0)\n",
    "df.sql_yn.value_counts()\n",
    "#sas\n",
    "df['sas_yn']  = df['Job Description'].apply(lambda x: 1 if (' sas ' in x.lower() or ' sas,' in x.lower() or ' sas.' in x.lower())  else 0)\n",
    "df.sas_yn.value_counts()\n",
    "#d3js\n",
    "df['d3js_yn']  = df['Job Description'].apply(lambda x: 1 if 'd3' in x.lower() else 0)\n",
    "df.d3js_yn.value_counts()\n",
    "#julia\n",
    "df['julia_yn']  = df['Job Description'].apply(lambda x: 1 if 'julia' in x.lower() else 0)\n",
    "df.julia_yn.value_counts()\n",
    "#jupyter\n",
    "df['jupyter_yn']  = df['Job Description'].apply(lambda x: 1 if 'jupyter' in x.lower() else 0)\n",
    "df.jupyter_yn.value_counts()\n",
    "#keras\n",
    "df['keras_yn']  = df['Job Description'].apply(lambda x: 1 if 'keras' in x.lower() else 0)\n",
    "df.keras_yn.value_counts()\n",
    "#matlab\n",
    "df['matlab_yn']  = df['Job Description'].apply(lambda x: 1 if 'matlab' in x.lower() else 0)\n",
    "df.matlab_yn.value_counts()\n",
    "#matplotlib\n",
    "df['matplotlib_yn']  = df['Job Description'].apply(lambda x: 1 if 'matplotlib' in x.lower() else 0)\n",
    "df.matplotlib_yn.value_counts()\n",
    "#pytorch\n",
    "df['pytorch_yn']  = df['Job Description'].apply(lambda x: 1 if 'pytorch' in x.lower() else 0)\n",
    "df.pytorch_yn.value_counts()\n",
    "#scikit-learn\n",
    "df['scikit_yn']  = df['Job Description'].apply(lambda x: 1 if 'scikit' in x.lower() else 0)\n",
    "df.scikit_yn.value_counts()\n",
    "#tensor\n",
    "df['tensor_yn']  = df['Job Description'].apply(lambda x: 1 if 'tensor' in x.lower() else 0)\n",
    "df.tensor_yn.value_counts()\n",
    "#weka\n",
    "df['weka_yn']  = df['Job Description'].apply(lambda x: 1 if 'weka' in x.lower() else 0)\n",
    "df.weka_yn.value_counts()\n",
    "#selenium\n",
    "df['selenium_yn']  = df['Job Description'].apply(lambda x: 1 if 'selenium' in x.lower() else 0)\n",
    "df.selenium_yn.value_counts()\n",
    "#hadoop\n",
    "df['hadoop_yn']  = df['Job Description'].apply(lambda x: 1 if 'hadoop' in x.lower() else 0)\n",
    "df.hadoop_yn.value_counts()\n",
    "#tableau\n",
    "df['tableau_yn']  = df['Job Description'].apply(lambda x: 1 if 'tableau' in x.lower() else 0)\n",
    "df.tableau_yn.value_counts()\n",
    "#power bi\n",
    "df['bi_yn']  = df['Job Description'].apply(lambda x: 1 if ('power bi' in x.lower() or 'powerbi' in x.lower()) else 0)\n",
    "df.bi_yn.value_counts()\n",
    "#bigml\n",
    "df['bigml_yn']  = df['Job Description'].apply(lambda x: 1 if 'bigml' in x.lower() else 0)\n",
    "df.bigml_yn.value_counts()\n",
    "#rapidminer\n",
    "df['rapidminer_yn']  = df['Job Description'].apply(lambda x: 1 if 'rapidminer' in x.lower() else 0)\n",
    "df.rapidminer_yn.value_counts()\n",
    "#apache flink\n",
    "df['flink_yn']  = df['Job Description'].apply(lambda x: 1 if 'flink' in x.lower() else 0)\n",
    "df.flink_yn.value_counts()\n",
    "#datarobot\n",
    "df['datarobot_yn']  = df['Job Description'].apply(lambda x: 1 if 'datarobot' in x.lower() else 0)\n",
    "df.datarobot_yn.value_counts()\n",
    "#sap hana\n",
    "df['hana_yn']  = df['Job Description'].apply(lambda x: 1 if 'hana' in x.lower() else 0)\n",
    "df.hana_yn.value_counts()\n",
    "#mongo db\n",
    "df['mongo_yn']  = df['Job Description'].apply(lambda x: 1 if 'mongo' in x.lower() else 0)\n",
    "df.mongo_yn.value_counts()\n",
    "#trifacta\n",
    "df['trifacta_yn']  = df['Job Description'].apply(lambda x: 1 if 'trifacta' in x.lower() else 0)\n",
    "df.trifacta_yn.value_counts()\n",
    "#minitab\n",
    "df['minitab_yn']  = df['Job Description'].apply(lambda x: 1 if 'minitab' in x.lower() else 0)\n",
    "df.minitab_yn.value_counts()\n",
    "#kafka\n",
    "df['kafka_yn']  = df['Job Description'].apply(lambda x: 1 if 'kafka' in x.lower() else 0)\n",
    "df.kafka_yn.value_counts()\n",
    "#microstrategy\n",
    "df['microstrategy_yn']  = df['Job Description'].apply(lambda x: 1 if 'microstrategy' in x.lower() else 0)\n",
    "df.microstrategy_yn.value_counts()\n",
    "#google analytics\n",
    "df['google_an_yn']  = df['Job Description'].apply(lambda x: 1 if 'google analytics' in x.lower() else 0)\n",
    "df.google_an_yn.value_counts()\n",
    "\n",
    "#Statistical Package for the Social Sciences\n",
    "df['spss_yn']  = df['Job Description'].apply(lambda x: 1 if 'spss' in x.lower() else 0)\n",
    "df.spss_yn.value_counts()"
   ]
  },
  {
   "cell_type": "markdown",
   "id": "d98fbd8a",
   "metadata": {
    "id": "d98fbd8a"
   },
   "source": [
    "## Column for simplified Job Title."
   ]
  },
  {
   "cell_type": "code",
   "execution_count": 11,
   "id": "9fd005a6",
   "metadata": {
    "id": "9fd005a6"
   },
   "outputs": [],
   "source": [
    "def title_simplifier(title):\n",
    "    if 'data scientist' in title.lower():\n",
    "        return 'data scientist'\n",
    "    elif 'data science' in title.lower():\n",
    "        return 'data scientist'\n",
    "    elif 'data engineer' in title.lower():\n",
    "        return 'data engineer'\n",
    "    elif 'analyst' in title.lower():\n",
    "        return 'analyst'\n",
    "    elif 'machine learning' in title.lower():\n",
    "        return 'machine learning engineer'\n",
    "    elif 'manager' in title.lower():\n",
    "        return 'manager'\n",
    "    elif 'director' in title.lower():\n",
    "        return 'director'\n",
    "    elif 'scientist' in title.lower():\n",
    "        return 'other scientist'\n",
    "    elif 'data modeler' in title.lower():\n",
    "        return 'data modeler'\n",
    "    elif 'data' and 'anal' in title.lower():\n",
    "        return 'data analitics'\n",
    "    else:\n",
    "        return 'na'  #not applicable\n"
   ]
  },
  {
   "cell_type": "code",
   "execution_count": 12,
   "id": "6c7e746a",
   "metadata": {
    "colab": {
     "base_uri": "https://localhost:8080/"
    },
    "id": "6c7e746a",
    "outputId": "6191b8e4-8d23-4e61-bea2-04f7038d9380"
   },
   "outputs": [
    {
     "data": {
      "text/plain": [
       "data scientist               610\n",
       "na                            21\n",
       "data engineer                 13\n",
       "machine learning engineer     11\n",
       "other scientist               10\n",
       "analyst                        9\n",
       "data analitics                 4\n",
       "manager                        2\n",
       "Name: job_simp, dtype: int64"
      ]
     },
     "execution_count": 12,
     "metadata": {},
     "output_type": "execute_result"
    }
   ],
   "source": [
    "df['job_simp'] = df['Job Title'].apply(title_simplifier)\n",
    "df['job_simp'].value_counts()"
   ]
  },
  {
   "cell_type": "markdown",
   "id": "9025c1f7",
   "metadata": {
    "id": "9025c1f7"
   },
   "source": [
    "## Column for Seniority:\n",
    "\t* by analyzing Jobs Title info and by analyzing Jobs Descriptoin info."
   ]
  },
  {
   "cell_type": "code",
   "execution_count": 13,
   "id": "fa407214",
   "metadata": {
    "id": "fa407214"
   },
   "outputs": [],
   "source": [
    "#This function looks for the seniority asked in the title of each job asking (Job Title column)\n",
    "def seniority(title):\n",
    "    if 's.sr' in title.lower() or 's. sr' in title.lower() or 's sr' in title.lower() or 'ssr' in title.lower() or 's. senior' in title.lower() or 'semi or' in title.lower() or 'middle' in title.lower() or 'mid' in title.lower():\n",
    "        return 'ssr'\n",
    "    elif 'jr' in title.lower() or 'junior' in title.lower():\n",
    "        return 'jr'\n",
    "    elif 'sr' in title.lower() or 'senior' in title.lower() or 'lead' in title.lower() or 'principal' in title.lower():\n",
    "        return 'sr'\n",
    "    else:\n",
    "        return 'na'"
   ]
  },
  {
   "cell_type": "code",
   "execution_count": 14,
   "id": "a9d0618b",
   "metadata": {
    "colab": {
     "base_uri": "https://localhost:8080/"
    },
    "id": "a9d0618b",
    "outputId": "b6819549-a038-47b6-ee33-cc8d7c2ebd80"
   },
   "outputs": [
    {
     "data": {
      "text/plain": [
       "na    465\n",
       "sr    192\n",
       "jr     23\n",
       "Name: seniority_by_title, dtype: int64"
      ]
     },
     "execution_count": 14,
     "metadata": {},
     "output_type": "execute_result"
    }
   ],
   "source": [
    "df['seniority_by_title'] = df['Job Title'].apply(seniority)\n",
    "df.seniority_by_title.value_counts()"
   ]
  },
  {
   "cell_type": "code",
   "execution_count": 15,
   "id": "1141453b",
   "metadata": {
    "colab": {
     "base_uri": "https://localhost:8080/"
    },
    "id": "1141453b",
    "outputId": "6634e319-3a3c-4292-df97-f6211f22c578"
   },
   "outputs": [
    {
     "data": {
      "text/plain": [
       "na    643\n",
       "5      11\n",
       "7       6\n",
       "3       5\n",
       "2       4\n",
       "8       4\n",
       "6       3\n",
       "4       3\n",
       "1       1\n",
       "Name: seniority_by_description, dtype: int64"
      ]
     },
     "execution_count": 15,
     "metadata": {},
     "output_type": "execute_result"
    }
   ],
   "source": [
    "#This function looks for the seniority asked in the description of each job asking (Job Description column)\n",
    "import re\n",
    "\n",
    "\n",
    "def experience (job_description):\n",
    "\n",
    "    if 'years experience' in job_description.lower(): #find each position in 'Job Description' that says \"years experience\" (years experience)\n",
    "        text_list = job_description.split('years experience')\n",
    "        text_list = [x[-15:] for x in text_list] #Just take last 15 characters before the searched string (where the text says how many years)\n",
    "\n",
    "        if len(text_list)>1: #the next line only is executed if there is more than one item in the list\n",
    "            text_list = text_list[:-1] #delete last item in list (cause it does not contain a number)\n",
    "\n",
    "        # Here I transform words to numbers\n",
    "        for index, item in enumerate(text_list):\n",
    "            if \"one\" in text_list[index].lower():\n",
    "                text_list[index] = text_list[index].lower().replace('one','1')\n",
    "            if \"two\" in text_list[index].lower():\n",
    "                text_list[index] = text_list[index].lower().replace('two','2')\n",
    "            if \"three\" in text_list[index].lower():\n",
    "                text_list[index] = text_list[index].lower().replace('three','3')\n",
    "            if \"four\" in text_list[index].lower():\n",
    "                text_list[index] = text_list[index].lower().replace('four','4')\n",
    "            if \"five\" in text_list[index].lower():\n",
    "                text_list[index] = text_list[index].lower().replace('five','5')\n",
    "            if \"six\" in text_list[index].lower():\n",
    "                text_list[index] = text_list[index].lower().replace('six','6')\n",
    "            if \"seven\" in text_list[index].lower():\n",
    "                text_list[index] = text_list[index].lower().replace('seven','7')\n",
    "            if \"eight\" in text_list[index].lower():\n",
    "                text_list[index] = text_list[index].lower().replace('eight','8')\n",
    "            if \"nine\" in text_list[index].lower():\n",
    "                text_list[index] = text_list[index].lower().replace('nine','9')\n",
    "            if \"ten\" in text_list[index].lower():\n",
    "                text_list[index] = text_list[index].lower().replace('ten','10')\n",
    "            if \"eleven\" in text_list[index].lower():\n",
    "                text_list[index] = text_list[index].lower().replace('eleven','11')\n",
    "            if \"twelve\" in text_list[index].lower():\n",
    "                text_list[index] = text_list[index].lower().replace('twelve','12')\n",
    "\n",
    "        # Here numbers are everything left. (thanks stackoverflow)\n",
    "        pattern = re.compile(r'\\d+')\n",
    "        num_list = [\" \".join(pattern.findall(item)) for item in text_list] #Take each number and create a list of numbers.\n",
    "        #NOTE: when there are decimals numbers, they are taken as different numbers (i.e. 3.5 are taken as 3 and 5). But, taking into account that the average between this and it correct value not affect much, it is irrelevant to correct it.\n",
    "\n",
    "        num_list = max(num_list)   #finally we take the bigger number\n",
    "        #(this means that if the company ask for 2 years of experience with python and 5 years with ML, the important number is the 5)\n",
    "\n",
    "        text = ' '.join(num_list)\n",
    "        #I choose to do it like this because if I join number I can't differentiate a decimal to decide which is larger('10 3' -> 103)\n",
    "        last_list = text.split(' ')\n",
    "        text = max(last_list)   #finally we take the bigger number\n",
    "        #(this means that if the company ask for 2 years of experience with python and 5 years with ML, the important number is the 5)\n",
    "\n",
    "        if text == '': #Writes 'na' when text is empty (because in the text before de searched string there is no numbers)\n",
    "            text = 'na'\n",
    "\n",
    "        return text\n",
    "\n",
    "    elif 'years of' in job_description.lower(): #find each position in 'Job Description' that says \"years of\" (years of experience)\n",
    "        text_list = job_description.split('years of')\n",
    "        text_list = [x[-15:] for x in text_list] #Just take last 15 characters before the searched string (where the text says how many years)\n",
    "\n",
    "        if len(text_list)>1: #the next line only is executed if there is more than one item in the list\n",
    "            text_list = text_list[:-1] #delete last item in list (cause it does not contain a number)\n",
    "\n",
    "        # Here I transform words to numbers\n",
    "        for index, item in enumerate(text_list):\n",
    "            if \"one\" in text_list[index].lower():\n",
    "                text_list[index] = text_list[index].lower().replace('one','1')\n",
    "            if \"two\" in text_list[index].lower():\n",
    "                text_list[index] = text_list[index].lower().replace('two','2')\n",
    "            if \"three\" in text_list[index].lower():\n",
    "                text_list[index] = text_list[index].lower().replace('three','3')\n",
    "            if \"four\" in text_list[index].lower():\n",
    "                text_list[index] = text_list[index].lower().replace('four','4')\n",
    "            if \"five\" in text_list[index].lower():\n",
    "                text_list[index] = text_list[index].lower().replace('five','5')\n",
    "            if \"six\" in text_list[index].lower():\n",
    "                text_list[index] = text_list[index].lower().replace('six','6')\n",
    "            if \"seven\" in text_list[index].lower():\n",
    "                text_list[index] = text_list[index].lower().replace('seven','7')\n",
    "            if \"eight\" in text_list[index].lower():\n",
    "                text_list[index] = text_list[index].lower().replace('eight','8')\n",
    "            if \"nine\" in text_list[index].lower():\n",
    "                text_list[index] = text_list[index].lower().replace('nine','9')\n",
    "            if \"ten\" in text_list[index].lower():\n",
    "                text_list[index] = text_list[index].lower().replace('ten','10')\n",
    "            if \"eleven\" in text_list[index].lower():\n",
    "                text_list[index] = text_list[index].lower().replace('eleven','11')\n",
    "            if \"twelve\" in text_list[index].lower():\n",
    "                text_list[index] = text_list[index].lower().replace('twelve','12')\n",
    "\n",
    "        # Here numbers are everything left. (thanks stackoverflow)\n",
    "        pattern = re.compile(r'\\d+')\n",
    "        num_list = [\" \".join(pattern.findall(item)) for item in text_list] #Take each number and create a list of numbers.\n",
    "        #NOTE: when there are decimals numbers, they are taken as different numbers (i.e. 3.5 are taken as 3 and 5). But, taking into account that the average between this and it correct value not affect much, it is irrelevant to correct it.\n",
    "\n",
    "        num_list = max(num_list)   #finally we take the bigger number\n",
    "        #(this means that if the compay ask for 2 years of experience with python and 5 years with ML, the important number is the 5)\n",
    "\n",
    "        text = ' '.join(num_list)\n",
    "        #I choose to do it like this because if I join number I can't differentiate a decimal to decide which is larger('10 3' -> 103)\n",
    "        last_list = text.split(' ')\n",
    "        text = max(last_list)   #finally we take the bigger number\n",
    "        #(this means that if the company ask for 2 years of experience with python and 5 years with ML, the important number is the 5)\n",
    "\n",
    "        if text == '': #Writes 'na' when text is empty (because in the text before de searched string there is no numbers)\n",
    "            text = 'na'\n",
    "\n",
    "        return text\n",
    "\n",
    "    elif 'years’' in job_description.lower(): #find each position in 'Job Description' that says \"years’\" (year's experience)\n",
    "        text_list = job_description.split('years’')\n",
    "        text_list = [x[-15:] for x in text_list] #Just take last 15 characters before the searched string (where the text says how many years)\n",
    "\n",
    "        if len(text_list)>1: #the next line only is executed if there is more than one item in the list\n",
    "            text_list = text_list[:-1] #delete last item in list (cause it does not contain a number)\n",
    "\n",
    "        # Here I transform words to numbers\n",
    "        for index, item in enumerate(text_list):\n",
    "            if \"one\" in text_list[index].lower():\n",
    "                text_list[index] = text_list[index].lower().replace('one','1')\n",
    "            if \"two\" in text_list[index].lower():\n",
    "                text_list[index] = text_list[index].lower().replace('two','2')\n",
    "            if \"three\" in text_list[index].lower():\n",
    "                text_list[index] = text_list[index].lower().replace('three','3')\n",
    "            if \"four\" in text_list[index].lower():\n",
    "                text_list[index] = text_list[index].lower().replace('four','4')\n",
    "            if \"five\" in text_list[index].lower():\n",
    "                text_list[index] = text_list[index].lower().replace('five','5')\n",
    "            if \"six\" in text_list[index].lower():\n",
    "                text_list[index] = text_list[index].lower().replace('six','6')\n",
    "            if \"seven\" in text_list[index].lower():\n",
    "                text_list[index] = text_list[index].lower().replace('seven','7')\n",
    "            if \"eight\" in text_list[index].lower():\n",
    "                text_list[index] = text_list[index].lower().replace('eight','8')\n",
    "            if \"nine\" in text_list[index].lower():\n",
    "                text_list[index] = text_list[index].lower().replace('nine','9')\n",
    "            if \"ten\" in text_list[index].lower():\n",
    "                text_list[index] = text_list[index].lower().replace('ten','10')\n",
    "            if \"eleven\" in text_list[index].lower():\n",
    "                text_list[index] = text_list[index].lower().replace('eleven','11')\n",
    "            if \"twelve\" in text_list[index].lower():\n",
    "                text_list[index] = text_list[index].lower().replace('twelve','12')\n",
    "\n",
    "        # Here numbers are everything left. (thanks stackoverflow)\n",
    "        pattern = re.compile(r'\\d+')\n",
    "        num_list = [\" \".join(pattern.findall(item)) for item in text_list] #Take each number and create a list of numbers.\n",
    "        #NOTE: when there are decimals numbers, they are taken as different numbers (i.e. 3.5 are taken as 3 and 5). But, taking into account that the average between this and it correct value not affect much, it is irrelevant to correct it.\n",
    "\n",
    "        num_list = max(num_list)   #finally we take the bigger number\n",
    "        #(this means that if the company ask for 2 years of experience with python and 5 years with ML, the important number is the 5)\n",
    "\n",
    "        text = ' '.join(num_list)\n",
    "        #I choose to do it like this because if I join number I can't differentiate a decimal to decide which is larger('10 3' -> 103)\n",
    "        last_list = text.split(' ')\n",
    "        text = max(last_list)   #finally we take the bigger number\n",
    "        #(this means that if the company ask for 2 years of experience with python and 5 years with ML, the important number is the 5)\n",
    "\n",
    "        if text == '': #Writes 'na' when text is empty (because in the text before de searched string there is no numbers)\n",
    "            text = 'na'\n",
    "\n",
    "        return text\n",
    "\n",
    "    else:\n",
    "        return 'na'\n",
    "\n",
    "\n",
    "df['seniority_by_description'] = df['Job Description'].apply(experience)\n",
    "\n",
    "df['seniority_by_description'].value_counts()\n"
   ]
  },
  {
   "cell_type": "code",
   "execution_count": 16,
   "id": "165c012c",
   "metadata": {
    "colab": {
     "base_uri": "https://localhost:8080/"
    },
    "id": "165c012c",
    "outputId": "d5684774-b8fb-4e13-f878-9d4d24630a49"
   },
   "outputs": [
    {
     "data": {
      "text/plain": [
       "na     643\n",
       "ssr     19\n",
       "sr      13\n",
       "jr       5\n",
       "Name: seniority_by_description, dtype: int64"
      ]
     },
     "execution_count": 16,
     "metadata": {},
     "output_type": "execute_result"
    }
   ],
   "source": [
    "#Here I turn years of experience asked to seniority classification:\n",
    "    \n",
    "\n",
    "def years_2_seniority(years_c):\n",
    "    if years_c.lower().isdigit():\n",
    "        if int(years_c.lower()) <= 2:\n",
    "            return 'jr'\n",
    "        elif int(years_c.lower()) > 2 and int(years_c.lower()) <= 5:\n",
    "            return 'ssr'\n",
    "        elif int(years_c.lower()) > 5:\n",
    "            return 'sr'\n",
    "    else:\n",
    "        return 'na'\n",
    "\n",
    "df['seniority_by_description'] = df['seniority_by_description'].apply(years_2_seniority)\n",
    "df['seniority_by_description'].value_counts()"
   ]
  },
  {
   "cell_type": "code",
   "execution_count": 17,
   "id": "29bee5f8",
   "metadata": {
    "colab": {
     "base_uri": "https://localhost:8080/"
    },
    "id": "29bee5f8",
    "outputId": "2958c33e-8afb-45fd-8f1c-33478c5b108f"
   },
   "outputs": [
    {
     "data": {
      "text/plain": [
       "na    680\n",
       "Name: seniority_by_description, dtype: int64"
      ]
     },
     "execution_count": 17,
     "metadata": {},
     "output_type": "execute_result"
    }
   ],
   "source": [
    "df['seniority_by_description'] = df['seniority_by_description'].apply(years_2_seniority)\n",
    "df['seniority_by_description'].value_counts()"
   ]
  },
  {
   "cell_type": "code",
   "execution_count": 18,
   "id": "67a5bcef",
   "metadata": {
    "colab": {
     "base_uri": "https://localhost:8080/"
    },
    "id": "67a5bcef",
    "outputId": "c36b3d74-45b0-4fd3-ca4c-73f8757077ed"
   },
   "outputs": [
    {
     "data": {
      "text/plain": [
       "na    465\n",
       "sr    192\n",
       "jr     23\n",
       "Name: seniority, dtype: int64"
      ]
     },
     "execution_count": 18,
     "metadata": {},
     "output_type": "execute_result"
    }
   ],
   "source": [
    "#Finally I made de last seniorities characterization ranking by seniority_by_title and then seniority_by_description\n",
    "df['seniority'] = df.apply(lambda x: x['seniority_by_description'] if 'na' in x['seniority_by_title'] else x['seniority_by_title'],axis=1)\n",
    "df['seniority'].value_counts()\n",
    "\n",
    "#job_title_variation=df.apply(lambda x: x['Job Title'] if x['job_simp']==\"na\" else 1,axis=1)"
   ]
  },
  {
   "cell_type": "markdown",
   "id": "ed031a66",
   "metadata": {
    "id": "ed031a66"
   },
   "source": [
    "## Column for Job Description length\n",
    "\t* by quantity of letters and quantity of words"
   ]
  },
  {
   "cell_type": "code",
   "execution_count": 19,
   "id": "fb620c77",
   "metadata": {
    "colab": {
     "base_uri": "https://localhost:8080/"
    },
    "id": "fb620c77",
    "outputId": "93668969-bd21-40d1-ad67-b436513e778e"
   },
   "outputs": [
    {
     "data": {
      "text/plain": [
       "0      4862\n",
       "1      1444\n",
       "2      2003\n",
       "3       873\n",
       "4      1247\n",
       "       ... \n",
       "675     615\n",
       "676    1032\n",
       "677    2453\n",
       "678       2\n",
       "679       2\n",
       "Name: desc_len, Length: 680, dtype: int64"
      ]
     },
     "execution_count": 19,
     "metadata": {},
     "output_type": "execute_result"
    }
   ],
   "source": [
    "#It might be interesting to know if companies have longer descriptions if they are posting higher or lower salaries.\n",
    "    #That is to say: Does a company want to explain away a low salary by having really in depth description???\n",
    "    #later we gonna compare to answer this hypothesis, For now, just a columns with these values\n",
    "\n",
    "#Counting characters:\n",
    "df['desc_len'] = df['Job Description'].apply(lambda x:len(x))\n",
    "df['desc_len']"
   ]
  },
  {
   "cell_type": "code",
   "execution_count": 20,
   "id": "447cb8a3",
   "metadata": {
    "colab": {
     "base_uri": "https://localhost:8080/"
    },
    "id": "447cb8a3",
    "outputId": "de99223d-68c5-4746-ed00-25ef9da5318c"
   },
   "outputs": [
    {
     "name": "stderr",
     "output_type": "stream",
     "text": [
      "C:\\Users\\agvs3\\AppData\\Local\\Temp\\ipykernel_13016\\3541234607.py:6: SettingWithCopyWarning: \n",
      "A value is trying to be set on a copy of a slice from a DataFrame\n",
      "\n",
      "See the caveats in the documentation: https://pandas.pydata.org/pandas-docs/stable/user_guide/indexing.html#returning-a-view-versus-a-copy\n",
      "  desc_wo_intro[index] = desc_wo_intro[index].lower().replace('\\n',' ')\n"
     ]
    },
    {
     "data": {
      "text/plain": [
       "0      729\n",
       "1      239\n",
       "2      292\n",
       "3      143\n",
       "4      193\n",
       "      ... \n",
       "675     89\n",
       "676    153\n",
       "677    385\n",
       "678      1\n",
       "679      1\n",
       "Name: desc_len_words, Length: 680, dtype: int64"
      ]
     },
     "execution_count": 20,
     "metadata": {},
     "output_type": "execute_result"
    }
   ],
   "source": [
    "\n",
    "#Counting words.\n",
    "desc_wo_intro = df['Job Description']\n",
    "#First I replace '\\n' with ' ':\n",
    "for index, item in enumerate(desc_wo_intro):\n",
    "    if \"\\n\" in desc_wo_intro[index].lower():\n",
    "        desc_wo_intro[index] = desc_wo_intro[index].lower().replace('\\n',' ')\n",
    "# Then count words:\n",
    "df['desc_len_words'] = desc_wo_intro.str.count(' ') + 1\n",
    "df['desc_len_words']"
   ]
  },
  {
   "cell_type": "markdown",
   "id": "4ac5a397",
   "metadata": {
    "id": "4ac5a397"
   },
   "source": [
    "## Checking the others columns:\n",
    "\t* Size\n",
    "\t* Type of ownership\n",
    "\t* Revenue\n"
   ]
  },
  {
   "cell_type": "code",
   "execution_count": 21,
   "id": "4fbdac0d",
   "metadata": {
    "colab": {
     "base_uri": "https://localhost:8080/"
    },
    "id": "4fbdac0d",
    "outputId": "c51bf778-82a3-4f91-aef5-8be281929086"
   },
   "outputs": [
    {
     "data": {
      "text/plain": [
       "10000+ Employees           239\n",
       "1001 to 5000 Employees     118\n",
       "1 to 50 Employees           71\n",
       "51 to 200 Employees         68\n",
       "na                          55\n",
       "201 to 500 Employees        44\n",
       "5001 to 10000 Employees     43\n",
       "501 to 1000 Employees       42\n",
       "Name: Size, dtype: int64"
      ]
     },
     "execution_count": 21,
     "metadata": {},
     "output_type": "execute_result"
    }
   ],
   "source": [
    "#Size Column\n",
    "df['Size'] = df['Size'].apply(lambda x: 'na' if 'unknown' in x.lower() else ('na' if '-1' in x.lower() else x))\n",
    "df['Size'].value_counts()"
   ]
  },
  {
   "cell_type": "code",
   "execution_count": 22,
   "id": "b7661fea",
   "metadata": {
    "colab": {
     "base_uri": "https://localhost:8080/"
    },
    "id": "b7661fea",
    "outputId": "97ede6fb-7812-477e-ab06-8237c1ff12e0"
   },
   "outputs": [
    {
     "data": {
      "text/plain": [
       "Company - Private                 275\n",
       "Company - Public                  263\n",
       "Nonprofit Organization             37\n",
       "Subsidiary or Business Segment     26\n",
       "Government                         21\n",
       "Other Organization                 18\n",
       "College / University               18\n",
       "Hospital                            8\n",
       "Self-employed                       6\n",
       "Private Practice / Firm             4\n",
       "Contract                            4\n",
       "Name: Type of ownership, dtype: int64"
      ]
     },
     "execution_count": 22,
     "metadata": {},
     "output_type": "execute_result"
    }
   ],
   "source": [
    "# Type of ownership\n",
    "df['Type of ownership'] = df['Type of ownership'].apply(lambda x: 'Other Organization' if 'unknown' in x.lower() else ('Other Organization' if '-1' in x.lower() else x))\n",
    "df['Type of ownership'].value_counts()"
   ]
  },
  {
   "cell_type": "code",
   "execution_count": 23,
   "id": "65d3845e",
   "metadata": {
    "colab": {
     "base_uri": "https://localhost:8080/"
    },
    "id": "65d3845e",
    "outputId": "76e2a6ff-da89-4988-87e4-82a39dd62629"
   },
   "outputs": [
    {
     "data": {
      "text/plain": [
       "Unknown / Non-Applicable            259\n",
       "$10+ billion (USD)                  153\n",
       "$1 to $5 billion (USD)               71\n",
       "$100 to $500 million (USD)           51\n",
       "$5 to $25 million (USD)              35\n",
       "$5 to $10 billion (USD)              33\n",
       "$25 to $100 million (USD)            33\n",
       "$500 million to $1 billion (USD)     18\n",
       "$1 to $5 million (USD)               18\n",
       "Less than $1 million (USD)            9\n",
       "Name: Revenue, dtype: int64"
      ]
     },
     "execution_count": 23,
     "metadata": {},
     "output_type": "execute_result"
    }
   ],
   "source": [
    "#Revenue\n",
    "df['Revenue'] = df['Revenue'].apply(lambda x: 'Unknown / Non-Applicable' if '-1' in x.lower() else x)\n",
    "df['Revenue'].value_counts()"
   ]
  },
  {
   "cell_type": "markdown",
   "id": "dbef5c26",
   "metadata": {
    "id": "dbef5c26"
   },
   "source": [
    "## Finally exporting our data."
   ]
  },
  {
   "cell_type": "code",
   "execution_count": 24,
   "id": "7c538061",
   "metadata": {
    "id": "7c538061"
   },
   "outputs": [],
   "source": [
    "df_out=df\n",
    "df_out.to_csv('data_cleaned.csv',index=False)\n",
    "\n",
    "\n",
    "#Checking if the database was exported correctly:\n",
    "#pd.read_csv('data_cleaned_2020.csv')\n"
   ]
  },
  {
   "cell_type": "code",
   "execution_count": null,
   "id": "1e2e428e",
   "metadata": {},
   "outputs": [],
   "source": []
  }
 ],
 "metadata": {
  "colab": {
   "provenance": []
  },
  "kernelspec": {
   "display_name": "Python 3 (ipykernel)",
   "language": "python",
   "name": "python3"
  },
  "language_info": {
   "codemirror_mode": {
    "name": "ipython",
    "version": 3
   },
   "file_extension": ".py",
   "mimetype": "text/x-python",
   "name": "python",
   "nbconvert_exporter": "python",
   "pygments_lexer": "ipython3",
   "version": "3.11.4"
  }
 },
 "nbformat": 4,
 "nbformat_minor": 5
}
